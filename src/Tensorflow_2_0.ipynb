{
 "cells": [
  {
   "cell_type": "code",
   "execution_count": 10,
   "metadata": {
    "colab": {
     "base_uri": "https://localhost:8080/",
     "height": 592
    },
    "colab_type": "code",
    "id": "kN705nMDZmpk",
    "outputId": "a5cfd538-23d7-4f3d-d6d5-621fb62045bd"
   },
   "outputs": [],
   "source": [
    "#!pip install tensorflow==2.0.0-alpha0"
   ]
  },
  {
   "cell_type": "code",
   "execution_count": 11,
   "metadata": {
    "colab": {},
    "colab_type": "code",
    "id": "mnIpuWhtbZHb"
   },
   "outputs": [],
   "source": [
    "import numpy as np\n",
    "import tensorflow as tf"
   ]
  },
  {
   "cell_type": "code",
   "execution_count": 12,
   "metadata": {
    "colab": {
     "base_uri": "https://localhost:8080/",
     "height": 35
    },
    "colab_type": "code",
    "id": "NmNnLER1bboJ",
    "outputId": "7b367991-541c-4fb8-dfb6-dc79fe68961a"
   },
   "outputs": [
    {
     "name": "stdout",
     "output_type": "stream",
     "text": [
      "Tensorflow:  2.0.0-alpha0\n"
     ]
    }
   ],
   "source": [
    "print(\"Tensorflow: \", tf.__version__)"
   ]
  },
  {
   "cell_type": "code",
   "execution_count": 13,
   "metadata": {
    "colab": {
     "base_uri": "https://localhost:8080/",
     "height": 35
    },
    "colab_type": "code",
    "id": "rmQ8JCfrboPR",
    "outputId": "538e1e0b-90cb-4bcb-e19b-ea2de8d5dcd8"
   },
   "outputs": [
    {
     "name": "stdout",
     "output_type": "stream",
     "text": [
      "10.0\n"
     ]
    }
   ],
   "source": [
    "a = tf.Variable(10.0)\n",
    "print(a.numpy())"
   ]
  },
  {
   "cell_type": "code",
   "execution_count": 14,
   "metadata": {
    "colab": {
     "base_uri": "https://localhost:8080/",
     "height": 35
    },
    "colab_type": "code",
    "id": "PwOw4x3sbvt6",
    "outputId": "48a29c3e-bfba-4cca-e225-4f2eb5ca940a"
   },
   "outputs": [
    {
     "name": "stdout",
     "output_type": "stream",
     "text": [
      "tf.Tensor(70.0, shape=(), dtype=float32)\n"
     ]
    }
   ],
   "source": [
    "def forward(x):\n",
    "  return a*x\n",
    "\n",
    "print(forward(7))"
   ]
  },
  {
   "cell_type": "code",
   "execution_count": 15,
   "metadata": {
    "colab": {
     "base_uri": "https://localhost:8080/",
     "height": 34
    },
    "colab_type": "code",
    "id": "j1XWWDZOb78j",
    "outputId": "830c4abc-6011-4f98-b3f8-b556d4cb5b0d"
   },
   "outputs": [
    {
     "name": "stdout",
     "output_type": "stream",
     "text": [
      "<function <lambda> at 0xb2c557620>\n"
     ]
    }
   ],
   "source": [
    "loss = lambda: abs(forward(7)-35)\n",
    "print(loss)"
   ]
  },
  {
   "cell_type": "code",
   "execution_count": 16,
   "metadata": {
    "colab": {
     "base_uri": "https://localhost:8080/",
     "height": 874
    },
    "colab_type": "code",
    "id": "7tRXLo4GcFEE",
    "outputId": "f2707483-5bfa-442d-940d-5d211f3d15d2"
   },
   "outputs": [
    {
     "name": "stdout",
     "output_type": "stream",
     "text": [
      "9.9 tf.Tensor(69.299995, shape=(), dtype=float32)\n",
      "9.8 tf.Tensor(68.6, shape=(), dtype=float32)\n",
      "9.7 tf.Tensor(67.9, shape=(), dtype=float32)\n",
      "9.6 tf.Tensor(67.200005, shape=(), dtype=float32)\n",
      "9.500001 tf.Tensor(66.50001, shape=(), dtype=float32)\n",
      "9.400001 tf.Tensor(65.8, shape=(), dtype=float32)\n",
      "9.300001 tf.Tensor(65.100006, shape=(), dtype=float32)\n",
      "9.200001 tf.Tensor(64.40001, shape=(), dtype=float32)\n",
      "9.100001 tf.Tensor(63.70001, shape=(), dtype=float32)\n",
      "9.000001 tf.Tensor(63.000008, shape=(), dtype=float32)\n",
      "8.900001 tf.Tensor(62.300003, shape=(), dtype=float32)\n",
      "8.800001 tf.Tensor(61.600006, shape=(), dtype=float32)\n",
      "8.700001 tf.Tensor(60.900005, shape=(), dtype=float32)\n",
      "8.6 tf.Tensor(60.200005, shape=(), dtype=float32)\n",
      "8.5 tf.Tensor(59.5, shape=(), dtype=float32)\n",
      "8.4 tf.Tensor(58.799995, shape=(), dtype=float32)\n",
      "8.299999 tf.Tensor(58.099995, shape=(), dtype=float32)\n",
      "8.199999 tf.Tensor(57.399994, shape=(), dtype=float32)\n",
      "8.099998 tf.Tensor(56.69999, shape=(), dtype=float32)\n",
      "7.9999986 tf.Tensor(55.99999, shape=(), dtype=float32)\n",
      "7.8999987 tf.Tensor(55.29999, shape=(), dtype=float32)\n",
      "7.7999988 tf.Tensor(54.59999, shape=(), dtype=float32)\n",
      "7.699999 tf.Tensor(53.899994, shape=(), dtype=float32)\n",
      "7.599999 tf.Tensor(53.199993, shape=(), dtype=float32)\n",
      "7.499999 tf.Tensor(52.499992, shape=(), dtype=float32)\n",
      "7.399999 tf.Tensor(51.799995, shape=(), dtype=float32)\n",
      "7.299999 tf.Tensor(51.099995, shape=(), dtype=float32)\n",
      "7.1999993 tf.Tensor(50.399994, shape=(), dtype=float32)\n",
      "7.0999994 tf.Tensor(49.699997, shape=(), dtype=float32)\n",
      "6.9999995 tf.Tensor(48.999996, shape=(), dtype=float32)\n",
      "6.8999996 tf.Tensor(48.299995, shape=(), dtype=float32)\n",
      "6.7999997 tf.Tensor(47.6, shape=(), dtype=float32)\n",
      "6.7 tf.Tensor(46.899998, shape=(), dtype=float32)\n",
      "6.6 tf.Tensor(46.2, shape=(), dtype=float32)\n",
      "6.5 tf.Tensor(45.5, shape=(), dtype=float32)\n",
      "6.4 tf.Tensor(44.8, shape=(), dtype=float32)\n",
      "6.3 tf.Tensor(44.100002, shape=(), dtype=float32)\n",
      "6.2000003 tf.Tensor(43.4, shape=(), dtype=float32)\n",
      "6.1000004 tf.Tensor(42.700005, shape=(), dtype=float32)\n",
      "6.0000005 tf.Tensor(42.000004, shape=(), dtype=float32)\n",
      "5.9000006 tf.Tensor(41.300003, shape=(), dtype=float32)\n",
      "5.8000007 tf.Tensor(40.600006, shape=(), dtype=float32)\n",
      "5.700001 tf.Tensor(39.900005, shape=(), dtype=float32)\n",
      "5.600001 tf.Tensor(39.200005, shape=(), dtype=float32)\n",
      "5.500001 tf.Tensor(38.500008, shape=(), dtype=float32)\n",
      "5.400001 tf.Tensor(37.800007, shape=(), dtype=float32)\n",
      "5.300001 tf.Tensor(37.100006, shape=(), dtype=float32)\n",
      "5.2000012 tf.Tensor(36.40001, shape=(), dtype=float32)\n",
      "5.1000013 tf.Tensor(35.70001, shape=(), dtype=float32)\n",
      "5.0000014 tf.Tensor(35.00001, shape=(), dtype=float32)\n"
     ]
    }
   ],
   "source": [
    "optimizer = tf.optimizers.Adam(learning_rate=0.1)\n",
    "for _ in range(50):\n",
    "  optimizer.minimize(loss, var_list=[a])\n",
    "  print(a.numpy(), forward(7))\n"
   ]
  },
  {
   "cell_type": "code",
   "execution_count": 17,
   "metadata": {
    "colab": {
     "base_uri": "https://localhost:8080/",
     "height": 120
    },
    "colab_type": "code",
    "id": "V_ne4qkRc9_i",
    "outputId": "a5a1da8a-e408-43ba-cd2d-d454f2def810"
   },
   "outputs": [
    {
     "name": "stdout",
     "output_type": "stream",
     "text": [
      "(60000, 28, 28)\n",
      "(60000,)\n",
      "(10000, 28, 28)\n",
      "(10000,)\n"
     ]
    }
   ],
   "source": [
    "mnist = tf.keras.datasets.mnist\n",
    "(x_train, y_train), (x_test, y_test) = mnist.load_data()\n",
    "print(x_train.shape)\n",
    "print(y_train.shape)\n",
    "print(x_test.shape)\n",
    "print(y_test.shape)"
   ]
  },
  {
   "cell_type": "code",
   "execution_count": 18,
   "metadata": {
    "colab": {
     "base_uri": "https://localhost:8080/",
     "height": 282
    },
    "colab_type": "code",
    "id": "u31N8EiTd54-",
    "outputId": "5257ac92-57d6-4476-f1ff-e69431a00bac"
   },
   "outputs": [
    {
     "name": "stdout",
     "output_type": "stream",
     "text": [
      "3\n"
     ]
    },
    {
     "data": {
      "image/png": "[encoded data removed]",
      "text/plain": [
       "<Figure size 432x288 with 1 Axes>"
      ]
     },
     "metadata": {
      "needs_background": "light"
     },
     "output_type": "display_data"
    }
   ],
   "source": [
    "import matplotlib.pyplot as plt\n",
    "%matplotlib inline\n",
    "plt.imshow(x_train[10])\n",
    "print(y_train[10])"
   ]
  },
  {
   "cell_type": "code",
   "execution_count": 19,
   "metadata": {
    "colab": {},
    "colab_type": "code",
    "id": "IsEoYzdaeOhU"
   },
   "outputs": [],
   "source": [
    "x_train = x_train / 255.0\n",
    "x_test = x_test/ 255.0"
   ]
  },
  {
   "cell_type": "code",
   "execution_count": 20,
   "metadata": {
    "colab": {
     "base_uri": "https://localhost:8080/",
     "height": 206
    },
    "colab_type": "code",
    "id": "IZlaCau0eg31",
    "outputId": "6577ee95-670f-4be5-a4a7-2cbc3f2f7f5a"
   },
   "outputs": [
    {
     "name": "stdout",
     "output_type": "stream",
     "text": [
      "Epoch 1/5\n",
      "60000/60000 [==============================] - 2s 37us/sample - loss: 0.2793 - accuracy: 0.9204\n",
      "Epoch 2/5\n",
      "60000/60000 [==============================] - 2s 37us/sample - loss: 0.1235 - accuracy: 0.9647\n",
      "Epoch 3/5\n",
      "60000/60000 [==============================] - 2s 34us/sample - loss: 0.0867 - accuracy: 0.9740\n",
      "Epoch 4/5\n",
      "60000/60000 [==============================] - 2s 35us/sample - loss: 0.0652 - accuracy: 0.9808\n",
      "Epoch 5/5\n",
      "60000/60000 [==============================] - 2s 35us/sample - loss: 0.0522 - accuracy: 0.9843\n"
     ]
    },
    {
     "data": {
      "text/plain": [
       "<tensorflow.python.keras.callbacks.History at 0xb30258630>"
      ]
     },
     "execution_count": 20,
     "metadata": {},
     "output_type": "execute_result"
    }
   ],
   "source": [
    "model = tf.keras.models.Sequential([\n",
    "    tf.keras.layers.Flatten(input_shape=(28,28)),\n",
    "    tf.keras.layers.Dense(128, activation='relu'),\n",
    "    tf.keras.layers.Dense(10, activation='softmax')\n",
    "])\n",
    "\n",
    "model.compile(optimizer = 'adam', loss='sparse_categorical_crossentropy', metrics=['accuracy'])\n",
    "model.fit(x_train, y_train, batch_size = 50, epochs = 5)"
   ]
  },
  {
   "cell_type": "code",
   "execution_count": 21,
   "metadata": {
    "colab": {
     "base_uri": "https://localhost:8080/",
     "height": 51
    },
    "colab_type": "code",
    "id": "UtG5y0qHfnn9",
    "outputId": "204bcff9-9b9b-4ed3-f738-03494db56d3b"
   },
   "outputs": [
    {
     "name": "stdout",
     "output_type": "stream",
     "text": [
      "10000/10000 [==============================] - 0s 30us/sample - loss: 0.0757 - accuracy: 0.9737\n"
     ]
    },
    {
     "data": {
      "text/plain": [
       "[0.07566931752618403, 0.9737]"
      ]
     },
     "execution_count": 21,
     "metadata": {},
     "output_type": "execute_result"
    }
   ],
   "source": [
    "model.evaluate(x_test, y_test)"
   ]
  },
  {
   "cell_type": "code",
   "execution_count": 22,
   "metadata": {
    "colab": {
     "base_uri": "https://localhost:8080/",
     "height": 34
    },
    "colab_type": "code",
    "id": "K3ViB7mIf0NO",
    "outputId": "712f3ffa-ad8a-4368-c8b9-27d1ded5633d"
   },
   "outputs": [
    {
     "data": {
      "text/plain": [
       "3"
      ]
     },
     "execution_count": 22,
     "metadata": {},
     "output_type": "execute_result"
    }
   ],
   "source": [
    "np.argmax(model(x_train)[10])"
   ]
  },
  {
   "cell_type": "code",
   "execution_count": 23,
   "metadata": {
    "colab": {
     "base_uri": "https://localhost:8080/",
     "height": 291
    },
    "colab_type": "code",
    "id": "URN1dmyifHa5",
    "outputId": "caa2d2f5-96ee-4974-cc25-65051c6d3597"
   },
   "outputs": [
    {
     "name": "stdout",
     "output_type": "stream",
     "text": [
      "Model: \"model\"\n",
      "_________________________________________________________________\n",
      "Layer (type)                 Output Shape              Param #   \n",
      "=================================================================\n",
      "input_1 (InputLayer)         [(None, 28, 28)]          0         \n",
      "_________________________________________________________________\n",
      "flatten_2 (Flatten)          (None, 784)               0         \n",
      "_________________________________________________________________\n",
      "dense_4 (Dense)              (None, 512)               401920    \n",
      "_________________________________________________________________\n",
      "dense_5 (Dense)              (None, 10)                5130      \n",
      "=================================================================\n",
      "Total params: 407,050\n",
      "Trainable params: 407,050\n",
      "Non-trainable params: 0\n",
      "_________________________________________________________________\n"
     ]
    }
   ],
   "source": [
    "inputs = tf.keras.Input(shape=(28,28))\n",
    "network = tf.keras.layers.Flatten()(inputs)\n",
    "network = tf.keras.layers.Dense(512, activation=tf.nn.relu)(network)\n",
    "network = tf.keras.layers.Dense(10, activation = tf.nn.softmax)(network)\n",
    "\n",
    "functionalmodel = tf.keras.Model(inputs=inputs, outputs=network)\n",
    "\n",
    "functionalmodel.summary()"
   ]
  },
  {
   "cell_type": "code",
   "execution_count": 24,
   "metadata": {
    "colab": {
     "base_uri": "https://localhost:8080/",
     "height": 206
    },
    "colab_type": "code",
    "id": "YVrpTDLjhaIY",
    "outputId": "59f45af7-339d-4e09-c515-191c6680cab3"
   },
   "outputs": [
    {
     "name": "stdout",
     "output_type": "stream",
     "text": [
      "Epoch 1/5\n",
      "60000/60000 [==============================] - 4s 66us/sample - loss: 0.2152 - accuracy: 0.9381\n",
      "Epoch 2/5\n",
      "60000/60000 [==============================] - 4s 66us/sample - loss: 0.0859 - accuracy: 0.9746\n",
      "Epoch 3/5\n",
      "60000/60000 [==============================] - 4s 65us/sample - loss: 0.0553 - accuracy: 0.9829\n",
      "Epoch 4/5\n",
      "60000/60000 [==============================] - 4s 65us/sample - loss: 0.0393 - accuracy: 0.9876\n",
      "Epoch 5/5\n",
      "60000/60000 [==============================] - 4s 69us/sample - loss: 0.0274 - accuracy: 0.9913\n"
     ]
    },
    {
     "data": {
      "text/plain": [
       "<tensorflow.python.keras.callbacks.History at 0xb4ba737f0>"
      ]
     },
     "execution_count": 24,
     "metadata": {},
     "output_type": "execute_result"
    }
   ],
   "source": [
    "functionalmodel.compile(optimizer='adam', loss='sparse_categorical_crossentropy', metrics=['accuracy'])\n",
    "functionalmodel.fit(x_train, y_train, batch_size=50, epochs=5)"
   ]
  },
  {
   "cell_type": "code",
   "execution_count": 25,
   "metadata": {
    "colab": {},
    "colab_type": "code",
    "id": "dgRg45_xins1"
   },
   "outputs": [],
   "source": [
    "class MyModel(tf.keras.Model):\n",
    "  def __init__(self):\n",
    "    super().__init__()\n",
    "    self.flat = tf.keras.layers.Flatten(input_shape=(28,28))\n",
    "    self.dense1 = tf.keras.layers.Dense(128, activation=tf.nn.relu)\n",
    "    self.dense2 = tf.keras.layers.Dense(10, activation=tf.nn.softmax)\n",
    "    \n",
    "    self.loss = tf.keras.losses.SparseCategoricalCrossentropy()\n",
    "    \n",
    "    self.optimizer = tf.optimizers.Adam()\n",
    "    \n",
    "    \n",
    "    self.accuracy = tf.keras.metrics.Accuracy()\n",
    "    \n",
    "  def call(self, inputs):\n",
    "    flat = self.flat(inputs)\n",
    "    dense1 = self.dense1(flat)\n",
    "    return self.dense2(dense1)\n",
    "  \n",
    "  def get_loss(self, inputs, expected):\n",
    "    return self.loss(expected, self(inputs))\n",
    "  \n",
    "  def optimize(self, inputs, expected):\n",
    "    loss = lambda: self.get_loss(inputs, expected)\n",
    "    self.optimizer.minimize(loss=loss, var_list=self.trainable_weights)\n",
    "    \n",
    "  def get_accuracy(self, inputs, expected):\n",
    "    return self.accuracy(expected, tf.argmax(self(inputs),axis=1))\n",
    "  \n",
    "  \n",
    "  def fit(self, x, y, batch_size, epochs):\n",
    "    num_samples = x.shape[0]\n",
    "    for epoch in range(epochs):\n",
    "      for start in range(0, num_samples, batch_size):\n",
    "        x_batch = x[start:start+batch_size]\n",
    "        y_batch = y[start:start+batch_size]\n",
    "        self.optimize(x_batch, y_batch)\n",
    "      loss = self.get_loss(x,y)\n",
    "      acc = self.get_accuracy(x,y)\n",
    "      print(\"epoch: {}, loss: {}, accuracy: {}\".format(epoch, loss, acc))\n",
    "        "
   ]
  },
  {
   "cell_type": "code",
   "execution_count": 26,
   "metadata": {
    "colab": {
     "base_uri": "https://localhost:8080/",
     "height": 103
    },
    "colab_type": "code",
    "id": "r_1Pzp_Lo2pW",
    "outputId": "156c2cd9-6d47-404f-a38c-bcd13b63f61a"
   },
   "outputs": [
    {
     "name": "stdout",
     "output_type": "stream",
     "text": [
      "epoch: 0, loss: 0.16513076424598694, accuracy: 0.9508833289146423\n",
      "epoch: 1, loss: 0.11489909142255783, accuracy: 0.9576666951179504\n",
      "epoch: 2, loss: 0.09307039529085159, accuracy: 0.961650013923645\n",
      "epoch: 3, loss: 0.07997414469718933, accuracy: 0.9644874930381775\n",
      "epoch: 4, loss: 0.06689359992742538, accuracy: 0.9669566750526428\n"
     ]
    }
   ],
   "source": [
    "class_model = MyModel()\n",
    "class_model.fit(x_train, y_train, batch_size = 50, epochs =5)"
   ]
  },
  {
   "cell_type": "code",
   "execution_count": 27,
   "metadata": {
    "colab": {
     "base_uri": "https://localhost:8080/",
     "height": 34
    },
    "colab_type": "code",
    "id": "TCOkpEEtpeKJ",
    "outputId": "4190c7a8-60a9-4d28-98c2-7ff16e77061d"
   },
   "outputs": [
    {
     "data": {
      "text/plain": [
       "3"
      ]
     },
     "execution_count": 27,
     "metadata": {},
     "output_type": "execute_result"
    }
   ],
   "source": [
    "np.argmax(class_model(x_train)[10])"
   ]
  }
 ],
 "metadata": {
  "colab": {
   "name": "Tensorflow 2.0",
   "provenance": [],
   "version": "0.3.2"
  },
  "kernelspec": {
   "display_name": "Python 3",
   "language": "python",
   "name": "python3"
  },
  "language_info": {
   "codemirror_mode": {
    "name": "ipython",
    "version": 3
   },
   "file_extension": ".py",
   "mimetype": "text/x-python",
   "name": "python",
   "nbconvert_exporter": "python",
   "pygments_lexer": "ipython3",
   "version": "3.7.1"
  }
 },
 "nbformat": 4,
 "nbformat_minor": 1
}
